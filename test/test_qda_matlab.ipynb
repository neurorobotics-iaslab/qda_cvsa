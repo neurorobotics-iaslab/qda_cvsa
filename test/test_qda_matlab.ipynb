{
 "cells": [
  {
   "cell_type": "code",
   "execution_count": 54,
   "metadata": {},
   "outputs": [],
   "source": [
    "import numpy as np\n",
    "from sklearn.discriminant_analysis import QuadraticDiscriminantAnalysis\n",
    "import yaml\n",
    "from scipy.io import savemat, loadmat"
   ]
  },
  {
   "cell_type": "code",
   "execution_count": 55,
   "metadata": {},
   "outputs": [],
   "source": [
    "def fix_mat(data):\n",
    "    if data.dtype.names:\n",
    "        new_data = dict()\n",
    "        for name in data.dtype.names:\n",
    "            new_data[name]=data[0][name][0]\n",
    "        for k,v in new_data.items():\n",
    "            if v.dtype.names:\n",
    "                new_data[k] = fix_mat(v)\n",
    "            else:\n",
    "                new_data[k] = np.squeeze(v)\n",
    "        return new_data\n",
    "    else:\n",
    "        return data"
   ]
  },
  {
   "cell_type": "code",
   "execution_count": 56,
   "metadata": {},
   "outputs": [],
   "source": [
    "mat_file = 'features_extracted_4qdatest.mat'\n",
    "data = loadmat(mat_file)\n",
    "\n",
    "features = data['features_all']\n",
    "trials_start = data['trials_start']"
   ]
  },
  {
   "cell_type": "code",
   "execution_count": 57,
   "metadata": {},
   "outputs": [],
   "source": [
    "yaml_file = '/home/paolo/cvsa_ws/src/qda_cvsa/cfg/qda_h7.yaml'\n",
    "\n",
    "with open(yaml_file, 'r') as file:\n",
    "    params = yaml.safe_load(file)\n",
    "    \n",
    "# Create a new QDA model\n",
    "qda = QuadraticDiscriminantAnalysis()\n",
    "\n",
    "# Set the parameters\n",
    "qda.priors_ = np.array(params['QdaCfg']['params']['priors'])\n",
    "qda.means_ = np.array(params['QdaCfg']['params']['means'])\n",
    "qda.rotations_ = np.array(params['QdaCfg']['params']['rotations'])\n",
    "qda.scalings_ = np.array(params['QdaCfg']['params']['scalings'])\n",
    "qda.covariance_ = np.array(params['QdaCfg']['params']['covs'])\n",
    "qda.classes_ = np.array(params['QdaCfg']['params']['classlbs'])\n",
    "\n",
    "# save parameters to extract the correct features\n",
    "bands_features =  np.array(params['QdaCfg']['params']['band'])\n",
    "idchans_features = np.array(params['QdaCfg']['params']['idchans']) - 1"
   ]
  },
  {
   "cell_type": "code",
   "execution_count": 58,
   "metadata": {},
   "outputs": [],
   "source": [
    "# save the predictions of the qda\n",
    "qda_prediction = []\n",
    "for i in range(0, features.shape[0]):\n",
    "    c_pred = qda.predict_proba(features[i].reshape(1, -1))\n",
    "    qda_prediction.append(c_pred[0])\n",
    "    \n",
    "savemat('qda_prediction.mat', {'qda_prediction': qda_prediction})"
   ]
  },
  {
   "cell_type": "code",
   "execution_count": 65,
   "metadata": {},
   "outputs": [],
   "source": [
    "# simulate the integrator\n",
    "bufferSize = 80\n",
    "\n",
    "final_4trial = []\n",
    "\n",
    "for i in range(0, len(trials_start)-1):\n",
    "    buffer = np.tile([730, 731], int(bufferSize/2))\n",
    "    idx_buffer = 0\n",
    "    for j in range(int(trials_start[i]), int(trials_start[i+1])):\n",
    "        c_pred = qda_prediction[j]\n",
    "        if c_pred[0] > c_pred[1]:\n",
    "            buffer[idx_buffer] = 730\n",
    "        else:\n",
    "            buffer[idx_buffer] = 731\n",
    "            \n",
    "        if idx_buffer < bufferSize-1:\n",
    "            idx_buffer += 1\n",
    "        else:\n",
    "            idx_buffer = 0\n",
    "    \n",
    "    final_4trial.append(np.array([np.sum(buffer==730)/bufferSize, np.sum(buffer==731)/bufferSize]))\n",
    "    \n",
    "savemat('final_4trial.mat', {'final_4trial': final_4trial})"
   ]
  }
 ],
 "metadata": {
  "kernelspec": {
   "display_name": "Python 3",
   "language": "python",
   "name": "python3"
  },
  "language_info": {
   "codemirror_mode": {
    "name": "ipython",
    "version": 3
   },
   "file_extension": ".py",
   "mimetype": "text/x-python",
   "name": "python",
   "nbconvert_exporter": "python",
   "pygments_lexer": "ipython3",
   "version": "3.8.10"
  },
  "orig_nbformat": 4
 },
 "nbformat": 4,
 "nbformat_minor": 2
}
